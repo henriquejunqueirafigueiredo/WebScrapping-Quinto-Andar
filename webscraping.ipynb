{
 "cells": [
  {
   "cell_type": "markdown",
   "metadata": {},
   "source": [
    "## Processo para utlização da biblioteca Selenium para webscraping no site Quinto Andar"
   ]
  },
  {
   "cell_type": "markdown",
   "metadata": {},
   "source": [
    "# Nessa parte vamos importar bibliotecas necessárias para o codigo"
   ]
  },
  {
   "cell_type": "markdown",
   "metadata": {},
   "source": [
    "Pode se perceber que não utlizamos todas nesse script, porem foi deixado caso querem usar outras estrategias para o script"
   ]
  },
  {
   "cell_type": "code",
   "execution_count": 1,
   "metadata": {},
   "outputs": [],
   "source": [
    "from selenium import webdriver\n",
    "from selenium.webdriver.chrome.service import Service\n",
    "from selenium.webdriver.common.by import By\n",
    "from webdriver_manager.chrome import ChromeDriverManager\n",
    "from bs4 import BeautifulSoup\n",
    "import re\n",
    "import time\n",
    "import pandas as pd\n",
    "import numpy as np\n",
    "import requests\n",
    "from time import sleep\n",
    "from tqdm import tqdm"
   ]
  },
  {
   "cell_type": "markdown",
   "metadata": {},
   "source": [
    "# Buscando os dados na web"
   ]
  },
  {
   "cell_type": "markdown",
   "metadata": {},
   "source": [
    "AQUI IREMOS SALVAR TODOS OS NOMES DE CLASSES HTML PARA BUSCA  \n",
    "Cada classe foi buscada no site quinto andar, fazendo a analise html do site\n",
    "\n",
    "Preço do apartamento = CozyTypography xih2fc EKXjIf EqjlRj  \n",
    "IPTU + Cond = CozyTypography xih2fc _72Hu5c Ci-jp3  \n",
    "caracteristicas = CozyTypography o6Ojuq xih2fc EKXjIf A68t3o  \n",
    "tipo  = Cozy__CardTitle-Metadata Dg2zLY  \n",
    "endereço = CozyTypography xih2fc _72Hu5c Ci-jp3  \n",
    "\n",
    "\n"
   ]
  },
  {
   "cell_type": "markdown",
   "metadata": {},
   "source": [
    "Vamos configurar o nosso browser para a abertura do site"
   ]
  },
  {
   "cell_type": "code",
   "execution_count": 2,
   "metadata": {},
   "outputs": [],
   "source": [
    "driver = webdriver.Chrome()\n",
    "driver.get('https://www.quintoandar.com.br/comprar/imovel/belo-horizonte-mg-brasil')"
   ]
  },
  {
   "cell_type": "markdown",
   "metadata": {},
   "source": [
    "Iterando sobre o Botão ver mais para carregar todo elemento html do site.  \n",
    "\n",
    "Lembrando que caso esse passo não seja feito vamos pegar apenas os empreendimentos carregados no html que ja esta carregado de inicio  \n",
    "\n",
    "Caso seja utlizada a Biblioteca BeautifulSoup é necessario interagir com o botão ver mais utlizando a selenium, alem de passar a pagina para  \n",
    "html e utilizar o metodo find_all ou selec ao inves de find_element  \n",
    "\n",
    "A parte do range deve ser alterada para conseguir pegar todos os elementos, precisa ser trocado de acordo com o volume de apartamentos na região.  \n",
    "\n",
    "No sleep deve ser alterado de forma que de tempo do seu computador carrega toda a pagina para executar o clique no botão novamente  \n",
    "\n",
    "Aqui também utilizamos a biblioteca tqdm para saber qaunto do processo ja foi executado"
   ]
  },
  {
   "cell_type": "code",
   "execution_count": null,
   "metadata": {},
   "outputs": [],
   "source": [
    "for i in tqdm(range(500), desc=\"Processando\", unit=\" clique\"):\n",
    "    botao = driver.find_element(By.CLASS_NAME, 'MuiBox-root.mui-d8ybqx')\n",
    "    botao.click()\n",
    "    sleep(5)"
   ]
  },
  {
   "cell_type": "markdown",
   "metadata": {},
   "source": [
    "Usando as classes escolhidas no html, lembrando que os espaços precisam ser substuitos por pontos no Selenium.  \n",
    "\n",
    "Caso use BeautifulSoup não é necessario a substituição"
   ]
  },
  {
   "cell_type": "code",
   "execution_count": 4,
   "metadata": {},
   "outputs": [],
   "source": [
    "emp_valor = driver.find_elements(By.CLASS_NAME, 'CozyTypography.xih2fc.EKXjIf.EqjlRj')\n",
    "emp_iptu_cond = driver.find_elements(By.CLASS_NAME, 'Cozy__CardTitle-Subtitle.JyjznE')\n",
    "emp_caracter = driver.find_elements(By.CLASS_NAME, 'CozyTypography.o6Ojuq.xih2fc.EKXjIf.A68t3o')\n",
    "emp_tipo = driver.find_elements(By.CLASS_NAME, 'Cozy__CardTitle-Metadata.Dg2zLY')\n",
    "emp_end = driver.find_elements(By.CSS_SELECTOR, 'h2.CozyTypography.xih2fc._72Hu5c.Ci-jp3')"
   ]
  },
  {
   "cell_type": "markdown",
   "metadata": {},
   "source": [
    "Agora criei uma lista para cada variavel onde irei armazenar os valores das colunas para aplicar a um DataFrame"
   ]
  },
  {
   "cell_type": "code",
   "execution_count": 6,
   "metadata": {},
   "outputs": [],
   "source": [
    "valores = [valor.text for valor in emp_valor]\n",
    "iptu_condicoes = [iptu.text for iptu in emp_iptu_cond]\n",
    "caracteristicas = [caracter.text for caracter in emp_caracter]\n",
    "tipos = [tipo.text for tipo in emp_tipo]\n",
    "enderecos = [end.text for end in emp_end]"
   ]
  },
  {
   "cell_type": "markdown",
   "metadata": {},
   "source": [
    "Aqui escolhi criar um Dicionario para para amazenar os valores e os nomes das colunas do Dataframe"
   ]
  },
  {
   "cell_type": "code",
   "execution_count": 7,
   "metadata": {},
   "outputs": [],
   "source": [
    "data_dict = {\n",
    "    'Valor': valores,\n",
    "    'IPTU_Condicao': iptu_condicoes,\n",
    "    'Caracteristicas': caracteristicas,\n",
    "    'Tipo': tipos,\n",
    "    'Endereco': enderecos\n",
    "}"
   ]
  },
  {
   "cell_type": "code",
   "execution_count": 90,
   "metadata": {},
   "outputs": [],
   "source": [
    "df = pd.DataFrame(data_dict)"
   ]
  },
  {
   "cell_type": "markdown",
   "metadata": {},
   "source": [
    "# Tratamento dos dados"
   ]
  },
  {
   "cell_type": "markdown",
   "metadata": {},
   "source": [
    "Nessa primeira parte vamos tratar os dados e deixa-los quase 100% prontos para analises, separando colunas com mais de uma informação e  \n",
    "retirando caracteres especiais"
   ]
  },
  {
   "cell_type": "code",
   "execution_count": 91,
   "metadata": {},
   "outputs": [],
   "source": [
    "df['Valor'] = df['Valor'].astype(str).apply(lambda x : x.split(' ')[1])\n",
    "df['Iptu'] = df['IPTU_Condicao'].astype(str).apply(lambda x: x.split('+')[1])\n",
    "df['Condominio'] = df['IPTU_Condicao'].astype(str).apply(lambda x: x.split('+')[0])\n",
    "df['Endereco'] = df['Endereco'].astype(str).apply(lambda x : x.split(',')[1].split('·')[0])\n",
    "df['Condominio'] = df['Condominio'].astype(str).apply(lambda x: x.split(' ')[1])\n",
    "df['Caracteristicas'] = df['Caracteristicas'].astype(str).apply(lambda x:x.split(' · '))"
   ]
  },
  {
   "cell_type": "code",
   "execution_count": 93,
   "metadata": {},
   "outputs": [],
   "source": [
    "for i,r in df.iterrows():\n",
    "    if len(r['Caracteristicas']) == 2:\n",
    "        df.loc[i,'m2']=r['Caracteristicas'][0].split(' ')[0]\n",
    "        df.loc[i,'quartos']=r['Caracteristicas'][1].split(' ')[0]\n",
    "    else:\n",
    "        df.loc[i,'m2']=r['Caracteristicas'][0].split(' ')[0]\n",
    "        df.loc[i,'quartos']=r['Caracteristicas'][1].split(' ')[0]\n",
    "        df.loc[i,'vagas'] = r['Caracteristicas'][2].split(' ')[0]"
   ]
  },
  {
   "cell_type": "code",
   "execution_count": 94,
   "metadata": {},
   "outputs": [],
   "source": [
    "df['vagas'].fillna(0,inplace=True)"
   ]
  },
  {
   "cell_type": "code",
   "execution_count": 95,
   "metadata": {},
   "outputs": [],
   "source": [
    "df = df.drop(['IPTU_Condicao','Caracteristicas'], axis=1)"
   ]
  },
  {
   "cell_type": "markdown",
   "metadata": {},
   "source": [
    "Nessa segunda parte deixar os dados 100% prontos vamos deixar as colunas nos tipos corretos para analise"
   ]
  },
  {
   "cell_type": "code",
   "execution_count": null,
   "metadata": {},
   "outputs": [],
   "source": [
    "df.info()"
   ]
  },
  {
   "cell_type": "code",
   "execution_count": null,
   "metadata": {},
   "outputs": [],
   "source": [
    "colunas_para_converter = ['Valor', 'Iptu', 'Condominio', 'm2', 'quartos', 'vagas']\n",
    "\n",
    "for coluna in colunas_para_converter:\n",
    "    df[coluna] = pd.to_numeric(df[coluna].str.replace('.', '').str.strip(), errors='coerce').fillna(0).astype(int)\n"
   ]
  },
  {
   "cell_type": "code",
   "execution_count": null,
   "metadata": {},
   "outputs": [],
   "source": [
    "df.head()"
   ]
  },
  {
   "cell_type": "code",
   "execution_count": 99,
   "metadata": {},
   "outputs": [],
   "source": [
    "df.to_csv('base.csv')"
   ]
  }
 ],
 "metadata": {
  "kernelspec": {
   "display_name": "base",
   "language": "python",
   "name": "python3"
  },
  "language_info": {
   "codemirror_mode": {
    "name": "ipython",
    "version": 3
   },
   "file_extension": ".py",
   "mimetype": "text/x-python",
   "name": "python",
   "nbconvert_exporter": "python",
   "pygments_lexer": "ipython3",
   "version": "3.11.4"
  }
 },
 "nbformat": 4,
 "nbformat_minor": 2
}
